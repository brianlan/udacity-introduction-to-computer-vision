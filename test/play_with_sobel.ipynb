{
 "nbformat": 4,
 "nbformat_minor": 2,
 "metadata": {
  "language_info": {
   "name": "python",
   "codemirror_mode": {
    "name": "ipython",
    "version": 3
   },
   "version": "3.7.3-final"
  },
  "orig_nbformat": 2,
  "file_extension": ".py",
  "mimetype": "text/x-python",
  "name": "python",
  "npconvert_exporter": "python",
  "pygments_lexer": "ipython3",
  "version": 3,
  "kernelspec": {
   "name": "python3",
   "display_name": "Python 3"
  }
 },
 "cells": [
  {
   "cell_type": "code",
   "execution_count": 5,
   "metadata": {},
   "outputs": [],
   "source": [
    "import sys; sys.path.append(\"..\")\n",
    "import numpy as np\n",
    "import functools\n",
    "from scipy.signal import correlate2d\n",
    "\n",
    "from helpers import read_image, plot_image\n",
    "\n",
    "_plot = functools.partial(plot_image, cmap=\"gray\")"
   ]
  },
  {
   "cell_type": "code",
   "execution_count": 20,
   "metadata": {},
   "outputs": [],
   "source": [
    "im = read_image(\"../images/lena512gray.bmp\") / 255."
   ]
  },
  {
   "cell_type": "code",
   "execution_count": 21,
   "metadata": {},
   "outputs": [],
   "source": [
    "sobel_x = np.array([[-1, 0, 1], \n",
    "                    [-2, 0, 2], \n",
    "                    [-1, 0, 1]], dtype=np.float32)\n",
    "sobel_y = np.array([[-1, -2, -1], \n",
    "                    [0, 0, 0], \n",
    "                    [1, 2, 1]], dtype=np.float32)"
   ]
  },
  {
   "cell_type": "code",
   "execution_count": 22,
   "metadata": {},
   "outputs": [
    {
     "data": {
      "text/plain": "(-3.372549019607843, 2.7176470588235295)"
     },
     "execution_count": 22,
     "metadata": {},
     "output_type": "execute_result"
    }
   ],
   "source": [
    "grad_x = correlate2d(im, sobel_x, mode=\"same\")\n",
    "grad_y = correlate2d(im, sobel_y, mode=\"same\")\n",
    "grad_x.min(), grad_x.max()"
   ]
  },
  {
   "cell_type": "code",
   "execution_count": 23,
   "metadata": {},
   "outputs": [],
   "source": [
    "grad_magnitude = np.sqrt(np.square(grad_x) + np.square(grad_y))\n",
    "grad_direction = np.arctan2(grad_y, grad_x)"
   ]
  },
  {
   "cell_type": "code",
   "execution_count": 24,
   "metadata": {},
   "outputs": [
    {
     "data": {
      "text/plain": "(0.0, 3.427531744011885)"
     },
     "execution_count": 24,
     "metadata": {},
     "output_type": "execute_result"
    }
   ],
   "source": [
    "grad_magnitude.min(), grad_magnitude.max()"
   ]
  },
  {
   "cell_type": "code",
   "execution_count": null,
   "metadata": {},
   "outputs": [],
   "source": []
  }
 ]
}